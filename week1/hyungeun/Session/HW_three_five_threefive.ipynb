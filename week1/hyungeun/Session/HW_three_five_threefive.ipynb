{
 "cells": [
  {
   "cell_type": "markdown",
   "metadata": {},
   "source": [
    "# Three, Five, Three-Five\n",
    "Write code that detects if a number is divisible by 3, 5, both, or neither.\n",
    "Specifically, write a function that, given `x` (an integer), returns:\n",
    "\n",
    "    - the string \"threefive\", if x is a multiple of both 3 and 5.\n",
    "    - the string \"three\", if x is a multiple of 3 and not 5.\n",
    "    - the string \"five\", if x is a multiple of 5 and not 3.\n",
    "    - the integer x, if x is not divisible by either 3 or 5.\n",
    "\n",
    "You may assume that your input is an integer greater than 0.\n",
    "\n",
    "## Required Concepts\n",
    "Basic Object Types\n",
    "- basic math with Python\n",
    "- strings\n",
    "\n",
    "Conditional Statements\n",
    "- basic usage of: if, else, elif\n",
    "\n",
    "\n",
    "Basics of Functions\n",
    "- the return statement\n",
    "- basic function arguments\n",
    "\n",
    "## Examples\n",
    "```python\n",
    ">>> student_func(3)\n",
    "'three'\n",
    "\n",
    ">>> student_func(5)\n",
    "'five'\n",
    "\n",
    ">>> student_func(15)\n",
    "'threefive'\n",
    "\n",
    ">>> student_func(2)\n",
    "2\n",
    "```"
   ]
  },
  {
   "cell_type": "code",
   "execution_count": 1,
   "metadata": {},
   "outputs": [],
   "source": [
    "# make sure to execute this cell so that your function is defined\n",
    "# you must re-run this cell any time you make a change to this function\n",
    "\n",
    "def student_func(x):\n",
    "    \n",
    "    # write your code here\n",
    "    # be sure to include a `return` statement so that\n",
    "    # your function returns the appropriate object.\n",
    "    if x % 3 == 0 and x % 5 == 0:\n",
    "        return \"threefive\"\n",
    "    elif x % 3 == 0:\n",
    "        return \"three\"\n",
    "    elif x % 5 == 0:\n",
    "        return \"five\"\n",
    "    else:\n",
    "        return x"
   ]
  },
  {
   "cell_type": "code",
   "execution_count": 2,
   "metadata": {},
   "outputs": [
    {
     "name": "stdout",
     "output_type": "stream",
     "text": [
      "Using grader version 1.11.0\n",
      "\n",
      "============================== ALL TESTS PASSED! ===============================\n",
      "Your submission code: bwff4421ee931894837852f09fd7693233692ddaf5b61d75c9433691bf\n",
      "================================================================================\n",
      "\n"
     ]
    }
   ],
   "source": [
    "# Execute this cell to grade your work\n",
    "from bwsi_grader.python.three_five import grader\n",
    "grader(student_func)"
   ]
  },
  {
   "cell_type": "code",
   "execution_count": null,
   "metadata": {},
   "outputs": [],
   "source": []
  }
 ],
 "metadata": {
  "kernelspec": {
   "display_name": "Python 3",
   "language": "python",
   "name": "python3"
  },
  "language_info": {
   "codemirror_mode": {
    "name": "ipython",
    "version": 3
   },
   "file_extension": ".py",
   "mimetype": "text/x-python",
   "name": "python",
   "nbconvert_exporter": "python",
   "pygments_lexer": "ipython3",
   "version": "3.8.2"
  }
 },
 "nbformat": 4,
 "nbformat_minor": 2
}
